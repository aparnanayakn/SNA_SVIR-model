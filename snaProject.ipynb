{
  "nbformat": 4,
  "nbformat_minor": 0,
  "metadata": {
    "colab": {
      "name": "snaProject.ipynb",
      "provenance": [],
      "collapsed_sections": [],
      "authorship_tag": "ABX9TyP4P+zO/H3Zz2CU0lL+dw1B",
      "include_colab_link": true
    },
    "kernelspec": {
      "display_name": "Python 3",
      "name": "python3"
    }
  },
  "cells": [
    {
      "cell_type": "markdown",
      "metadata": {
        "id": "view-in-github",
        "colab_type": "text"
      },
      "source": [
        "<a href=\"https://colab.research.google.com/github/aparnanayakn/SNA_SVIR-model/blob/main/snaProject.ipynb\" target=\"_parent\"><img src=\"https://colab.research.google.com/assets/colab-badge.svg\" alt=\"Open In Colab\"/></a>"
      ]
    },
    {
      "cell_type": "code",
      "metadata": {
        "id": "eW1p7mgmp9s1"
      },
      "source": [
        "import matplotlib.pyplot as plt\n",
        "import networkx as nx\n",
        "import random\n",
        "import operator\n",
        "import numpy as np\n",
        "import collections\n",
        "import datetime\n",
        "from time import gmtime, strftime\n",
        "import pandas as pd"
      ],
      "execution_count": null,
      "outputs": []
    },
    {
      "cell_type": "code",
      "metadata": {
        "id": "tULpTeh0tArx"
      },
      "source": [
        "def statisticsCompute(sorted_x):\n",
        "  y = [sorted_x[i][1] for i in range(len(sorted_x))]\n",
        "  totalElements = len(sorted_x[:])\n",
        "\n",
        "  if totalElements % 2 == 0: \n",
        "    median1 = sorted_x[totalElements//2][1] \n",
        "    median2 = sorted_x[totalElements//2 - 1][1]\n",
        "    median = (median1 + median2)/2\n",
        "  else: \n",
        "    median = sorted_x[totalElements//2][1] \n",
        "\n",
        "  total=0\n",
        "  elem = []\n",
        "  for i in range(len(sorted_x[:])):\n",
        "    total+=sorted_x[i][1]\n",
        "    elem.append(sorted_x[i][1])\n",
        "    \n",
        "  mean = round(total/totalElements,2)\n",
        "\n",
        "  q75, q25 = np.percentile(y, [75 ,25])\n",
        "\n",
        "  return mean,median,q75,q25"
      ],
      "execution_count": null,
      "outputs": []
    },
    {
      "cell_type": "code",
      "metadata": {
        "id": "RRp_m7OOqQFd"
      },
      "source": [
        "def random_vaccine(G,n):\n",
        "\t#select n random nodes\n",
        "\tvaccinated=[]\n",
        "\timport random\n",
        "\twhile True:\n",
        "\t\tnode = random.randint(0,len(G.nodes())-1)\n",
        "\t\tif not(node in vaccinated): vaccinated.append(node)\n",
        "\t\tif len(vaccinated)==n: return vaccinated"
      ],
      "execution_count": null,
      "outputs": []
    },
    {
      "cell_type": "code",
      "metadata": {
        "colab": {
          "base_uri": "https://localhost:8080/",
          "height": 102
        },
        "id": "GAiWCy2bUT_7",
        "outputId": "6bad08f5-f800-49f2-e813-4dca52195da5"
      },
      "source": [
        "def degreecentralityVaccine(G,total):\n",
        "  vaccinated = []\n",
        "  accepted = 1\n",
        "  sorted_x = sorted(dict(G.degree()).items(), key=operator.itemgetter(1), reverse=True)\n",
        "  for i in range(total):\n",
        "    node = sorted_x[i]\n",
        "    vaccinated.append(node)\n",
        "  return vaccinated\n",
        "''' \n",
        " mean,median,q75,q25 = statisticsCompute(sorted_x)\n",
        "  #print(\"Q75\",q75,\"Q25\",q25)\n",
        "  y = [sorted_x[i][1] for i in range(len(sorted_x))]\n",
        "  df = pd.DataFrame(y)\n",
        "  if (float(df.skew()) > 0) :\n",
        "    accepted = 0\n",
        "  if (accepted==0):\n",
        "      #IQR\n",
        "    #print(\"accepted 0\")\n",
        "    for i in range(len(sorted_x)):\n",
        "      if ((sorted_x[i][1] > q75 )):\n",
        "        node = sorted_x[i]\n",
        "        vaccinated.append(node)\n",
        "    \n",
        "  else:\n",
        "    #print(\"accepted 1\")\n",
        "    for i in range(len(sorted_x)):\n",
        "      #Mean\n",
        "      if (sorted_x[i][1] > mean):\n",
        "        node = sorted_x[i]\n",
        "        vaccinated.append(node)'''\n",
        "\n",
        "  #print(len(vaccinated))\n"
      ],
      "execution_count": null,
      "outputs": [
        {
          "output_type": "execute_result",
          "data": {
            "application/vnd.google.colaboratory.intrinsic+json": {
              "type": "string"
            },
            "text/plain": [
              "' \\n mean,median,q75,q25 = statisticsCompute(sorted_x)\\n  #print(\"Q75\",q75,\"Q25\",q25)\\n  y = [sorted_x[i][1] for i in range(len(sorted_x))]\\n  df = pd.DataFrame(y)\\n  if (float(df.skew()) > 0) :\\n    accepted = 0\\n  if (accepted==0):\\n      #IQR\\n    #print(\"accepted 0\")\\n    for i in range(len(sorted_x)):\\n      if ((sorted_x[i][1] > q75 )):\\n        node = sorted_x[i]\\n        vaccinated.append(node)\\n    \\n  else:\\n    #print(\"accepted 1\")\\n    for i in range(len(sorted_x)):\\n      #Mean\\n      if (sorted_x[i][1] > mean):\\n        node = sorted_x[i]\\n        vaccinated.append(node)'"
            ]
          },
          "metadata": {
            "tags": []
          },
          "execution_count": 17
        }
      ]
    },
    {
      "cell_type": "code",
      "metadata": {
        "colab": {
          "base_uri": "https://localhost:8080/",
          "height": 102
        },
        "id": "gdrqvczXZrhw",
        "outputId": "a4c0beab-d6fc-4708-d0db-f136128afa19"
      },
      "source": [
        "def betweennesscentralityVaccine(G,total):\n",
        "  vaccinated = []\n",
        "  accepted = 1\n",
        "  Btw = nx.betweenness_centrality(G)\n",
        "  sorted_x = sorted(Btw.items(), key=operator.itemgetter(1), reverse=True)\n",
        "  for i in range(total):\n",
        "    node = sorted_x[i]\n",
        "    vaccinated.append(node)\n",
        "  return vaccinated\n",
        "'''\n",
        "  mean,median,q75,q25 = statisticsCompute(sorted_x)\n",
        "  #print(\"Q75\",q75,\"Q25\",q25)\n",
        "  y = [sorted_x[i][1] for i in range(len(sorted_x))]\n",
        "  df = pd.DataFrame(y)\n",
        "  count = 0\n",
        "  if (float(df.skew()) > 0) :\n",
        "    accepted = 0\n",
        "  if (accepted==0):\n",
        "      #IQR\n",
        "    for i in range(len(sorted_x)):\n",
        "      if ((sorted_x[i][1] > q75)):\n",
        "        node = sorted_x[i]\n",
        "        count+=1\n",
        "        vaccinated.append(node)\n",
        "  else:\n",
        "#    print(\"accepted 1\")\n",
        "    for i in range(len(sorted_x)):\n",
        "      #Mean\n",
        "      if (sorted_x[i][1] > mean):\n",
        "        node = sorted_x[i]\n",
        "        vaccinated.append(node)\n",
        " # print(count)\n",
        "  return vaccinated '''"
      ],
      "execution_count": null,
      "outputs": [
        {
          "output_type": "execute_result",
          "data": {
            "application/vnd.google.colaboratory.intrinsic+json": {
              "type": "string"
            },
            "text/plain": [
              "'\\n  mean,median,q75,q25 = statisticsCompute(sorted_x)\\n  #print(\"Q75\",q75,\"Q25\",q25)\\n  y = [sorted_x[i][1] for i in range(len(sorted_x))]\\n  df = pd.DataFrame(y)\\n  count = 0\\n  if (float(df.skew()) > 0) :\\n    accepted = 0\\n  if (accepted==0):\\n      #IQR\\n    for i in range(len(sorted_x)):\\n      if ((sorted_x[i][1] > q75)):\\n        node = sorted_x[i]\\n        count+=1\\n        vaccinated.append(node)\\n  else:\\n#    print(\"accepted 1\")\\n    for i in range(len(sorted_x)):\\n      #Mean\\n      if (sorted_x[i][1] > mean):\\n        node = sorted_x[i]\\n        vaccinated.append(node)\\n # print(count)\\n  return vaccinated '"
            ]
          },
          "metadata": {
            "tags": []
          },
          "execution_count": 18
        }
      ]
    },
    {
      "cell_type": "code",
      "metadata": {
        "colab": {
          "base_uri": "https://localhost:8080/",
          "height": 69
        },
        "id": "ZwBxlOdWtE0M",
        "outputId": "6253cb1e-0585-4916-adc6-61c5ce1778b2"
      },
      "source": [
        "def closenesscentralityVaccine(G,total):\n",
        "  vaccinated = []\n",
        "  accepted = 1\n",
        "  Clo = nx.closeness_centrality(G)\n",
        "  sorted_x = sorted(Clo.items(), key=operator.itemgetter(1), reverse=True)\n",
        "  for i in range(total):\n",
        "    node = sorted_x[i]\n",
        "    vaccinated.append(node)\n",
        "  return vaccinated \n",
        "'''  if (accepted==0):\n",
        "      #IQR\n",
        "    #print(\"accepted 0\")\n",
        "    for i in range(len(sorted_x)):\n",
        "      if ((sorted_x[i][1] > q75)):\n",
        "        node = sorted_x[i]\n",
        "        vaccinated.append(node)\n",
        "  else:\n",
        "    #print(\"accepted 1\")\n",
        "    for i in range(len(sorted_x)):\n",
        "      #Mean\n",
        "      if (sorted_x[i][1] > mean):\n",
        "        node = sorted_x[i]\n",
        "        vaccinated.append(node)\n",
        "  #print(len(vaccinated))'''\n"
      ],
      "execution_count": null,
      "outputs": [
        {
          "output_type": "execute_result",
          "data": {
            "application/vnd.google.colaboratory.intrinsic+json": {
              "type": "string"
            },
            "text/plain": [
              "'  if (accepted==0):\\n      #IQR\\n    #print(\"accepted 0\")\\n    for i in range(len(sorted_x)):\\n      if ((sorted_x[i][1] > q75)):\\n        node = sorted_x[i]\\n        vaccinated.append(node)\\n  else:\\n    #print(\"accepted 1\")\\n    for i in range(len(sorted_x)):\\n      #Mean\\n      if (sorted_x[i][1] > mean):\\n        node = sorted_x[i]\\n        vaccinated.append(node)\\n  #print(len(vaccinated))'"
            ]
          },
          "metadata": {
            "tags": []
          },
          "execution_count": 19
        }
      ]
    },
    {
      "cell_type": "code",
      "metadata": {
        "colab": {
          "base_uri": "https://localhost:8080/",
          "height": 102
        },
        "id": "RdvSvzTRum_d",
        "outputId": "fab61188-6517-49ea-edf5-98eb5622714a"
      },
      "source": [
        "def eigenvaluecentralityVaccine(G,total):\n",
        "  vaccinated = []\n",
        "  accepted = 1\n",
        "  Eig = nx.eigenvector_centrality(G)\n",
        "  sorted_x = sorted(Eig.items(), key=operator.itemgetter(1), reverse=True)\n",
        "  mean,median,q75,q25 = statisticsCompute(sorted_x)\n",
        "  for i in range(total):\n",
        "    node = sorted_x[i]\n",
        "    vaccinated.append(node)\n",
        "  return vaccinated\n",
        "'''\n",
        "  y = [sorted_x[i][1] for i in range(len(sorted_x))]\n",
        "  df = pd.DataFrame(y)\n",
        "  if (float(df.skew()) > 0) :\n",
        "    accepted = 0\n",
        "  if (accepted==0):\n",
        "      #IQR\n",
        "    #print(\"accepted 0\")\n",
        "    for i in range(len(sorted_x)):\n",
        "      if ( (sorted_x[i][1] > q75)):\n",
        "        node = sorted_x[i]\n",
        "        vaccinated.append(node)\n",
        "  else:\n",
        "    #print(\"accepted 1\")\n",
        "    for i in range(len(sorted_x)):\n",
        "      #Mean\n",
        "      if (sorted_x[i][1] > mean):\n",
        "        node = sorted_x[i]\n",
        "        vaccinated.append(node)\n",
        "  #print(\" V\",len(vaccinated))\n",
        "  return vaccinated '''"
      ],
      "execution_count": null,
      "outputs": [
        {
          "output_type": "execute_result",
          "data": {
            "application/vnd.google.colaboratory.intrinsic+json": {
              "type": "string"
            },
            "text/plain": [
              "'\\n  y = [sorted_x[i][1] for i in range(len(sorted_x))]\\n  df = pd.DataFrame(y)\\n  if (float(df.skew()) > 0) :\\n    accepted = 0\\n  if (accepted==0):\\n      #IQR\\n    #print(\"accepted 0\")\\n    for i in range(len(sorted_x)):\\n      if ( (sorted_x[i][1] > q75)):\\n        node = sorted_x[i]\\n        vaccinated.append(node)\\n  else:\\n    #print(\"accepted 1\")\\n    for i in range(len(sorted_x)):\\n      #Mean\\n      if (sorted_x[i][1] > mean):\\n        node = sorted_x[i]\\n        vaccinated.append(node)\\n  #print(\" V\",len(vaccinated))\\n  return vaccinated '"
            ]
          },
          "metadata": {
            "tags": []
          },
          "execution_count": 20
        }
      ]
    },
    {
      "cell_type": "code",
      "metadata": {
        "id": "sJGv_Fn6qVvx"
      },
      "source": [
        "def vaccine_hubs(G,n):\n",
        "\tvaccinated=[]\n",
        "\tsorted_by_degree = sorted(dict(G.degree()).items(), reverse=True, key=operator.itemgetter(1))  \n",
        "\tfor j in sorted_by_degree[0:n]:\n",
        "\t\tvaccinated.append(j[0])\n",
        "\treturn vaccinated"
      ],
      "execution_count": null,
      "outputs": []
    },
    {
      "cell_type": "code",
      "metadata": {
        "id": "rrDXgqTSqYLQ"
      },
      "source": [
        "def infect_neighbors(G,node,prob):\n",
        "  import random\n",
        "  n_list =  [n for n in G.neighbors(node)]\n",
        "  new_infected=[]\n",
        "  for j in n_list:\n",
        "    if random.random()<=prob:\n",
        "      new_infected.append(j)\n",
        "  return new_infected"
      ],
      "execution_count": null,
      "outputs": []
    },
    {
      "cell_type": "code",
      "metadata": {
        "id": "-QksnXTjqanw"
      },
      "source": [
        "#network\n",
        "G_airport = nx.read_gml('Airport.gml')\n",
        "G_rand = nx.read_gml('ER Graph.gml')\n",
        "G_ba = nx.read_gml('BA Model.gml')\n",
        "G_sw2 = nx.read_gml('Small World 0.2.gml')\n",
        "G_sw3 = nx.read_gml('Small World 0.3.gml')\n",
        "\n",
        "\n",
        "Graphs=[G_airport, G_rand, G_ba, G_sw2, G_sw3]\n",
        "\n",
        "prob = 0.5   #probability of getting infected\n",
        "prob_recover = 0.05\n",
        "steps = 50 # simulation steps\n",
        "apply_immunity = 1\n",
        "\n",
        "allVaccinations = []\n",
        "countVaccine = []\n",
        "countInfect = []\n",
        "\n",
        "vaccinated=[]\n",
        "infected=[]"
      ],
      "execution_count": null,
      "outputs": []
    },
    {
      "cell_type": "code",
      "metadata": {
        "id": "7Q9vl1SjyoGG"
      },
      "source": [
        "def simulate(sim_method):\n",
        "  sim_result = []\n",
        "  immune = []\n",
        "  recovered = 0\n",
        "  n = 0\n",
        "  for g in Graphs:\n",
        "    immune=[]\n",
        "    node1 = random.choice(list(g.nodes()))\n",
        "    print(node1)\n",
        "    infected_r=[node1]  #patient zero\n",
        "    if sim_method==1:\n",
        "    #Degree centrality\n",
        "      vaccinated= random_vaccine(g,687)\n",
        "    elif sim_method==2:\n",
        "      vaccinated= degreecentralityVaccine(g,687)\n",
        "    elif sim_method==3:\n",
        "      vaccinated= closenesscentralityVaccine(g,687)\n",
        "    elif sim_method==4:\n",
        "      vaccinated= eigenvaluecentralityVaccine(g,687)\n",
        "    elif sim_method==5:\n",
        "      vaccinated=betweennesscentralityVaccine(g,687)\n",
        "    elif sim_method==6:\n",
        "      node_attribute_dict = nx.get_node_attributes(g,\"vaccinated\")\n",
        "      vaccinated = {key: value for (key, value) in node_attribute_dict.items() if value == 1}\n",
        "    \n",
        "    sim_result.append(len(vaccinated))   \n",
        "\n",
        "    infected=[node1]  #patient zero\n",
        "    perc_infected=[]\n",
        "    for j in range(steps):\n",
        "      new_infected=[]  #new nodes infected in this simulation step\n",
        "      for k in infected:\n",
        "        new_infected.extend(infect_neighbors(g,k,prob))\n",
        "     \n",
        "\t\t\t#can they recover?\n",
        "      recovered = [x for x in infected if random.random()<=prob_recover]   #nodes recovering these steps\n",
        "\t\t\t#if there is immunity uncomment the next line\n",
        "      if (apply_immunity==1): immune.extend(recovered)\t\t\t\t\t\t\t\t\t\t\t #you cannot get the disease twice\n",
        "      infected = [x for x in list(set(infected)) if x not in recovered]\t #nodes infected so far = node infected so far minus recovered\t\t\n",
        "      infected.extend(new_infected)\t\t\t\t\t\t\t\t\t\t #add the nodes infected this step to the list of infected nodes\n",
        "\n",
        "      infected = [x for x in list(set(infected)) if x not in immune]\t #remove the immunized nodes\n",
        "      infected = [x for x in list(set(infected)) if x not in vaccinated]\t #remove the vaccinated nodes\n",
        "      \n",
        "   \n",
        "    sim_result.append(len(infected)+len(recovered))\n",
        "    \n",
        "    n=n+1\n",
        "  return sim_result\n"
      ],
      "execution_count": null,
      "outputs": []
    },
    {
      "cell_type": "code",
      "metadata": {
        "colab": {
          "background_save": true,
          "base_uri": "https://localhost:8080/"
        },
        "id": "ACxEKOlxiaPs",
        "outputId": "0fc6b8aa-7ebc-4fc7-8de6-307f3f5da7c2"
      },
      "source": [
        "randomNet = []\n",
        "betwennessNet = []\n",
        "closenessNet = []\n",
        "degreeNet = []\n",
        "eigenNet = []\n",
        "graNet = []\n",
        "\n",
        "num_sims = 1\n",
        "\n",
        "#Random \n",
        "for k in range(num_sims):\n",
        "  print(\"Simulation....Randomness\",k,\"/\",num_sims)\n",
        "  single_result = simulate(1)\n",
        "  if (k==0):\n",
        "    randomNet = (single_result)\n",
        "  else:\n",
        "    randomNet = np.add(randomNet, single_result)\n",
        "\n",
        "randFinal = []\n",
        "for x in randomNet:\n",
        "    randFinal.append(x/num_sims)\n",
        "\n",
        "#Degree centrality\n",
        "for k in range(num_sims):\n",
        "  print(\"Simulation....Degree Centrality\",k,\"/\",num_sims)\n",
        "  single_result = simulate(2)\n",
        "  if (k==0):\n",
        "    degreeNet = (single_result)\n",
        "  else:\n",
        "    degreeNet = np.add(degreeNet, single_result)\n",
        "\n",
        "degreeFinal = []\n",
        "for x in degreeNet:\n",
        "    degreeFinal.append(x/num_sims)\n",
        "\n",
        "\n",
        "#Closeness centrality\n",
        "for k in range(num_sims):\n",
        "  print(\"Simulation....Closeness Centrality\",k,\"/\",num_sims)\n",
        "  single_result = simulate(3)\n",
        "  if (k==0):\n",
        "    closenessNet = (single_result)\n",
        "  else:\n",
        "    closenessNet = np.add(closenessNet, single_result)\n",
        "\n",
        "closeFinal = []\n",
        "for x in closenessNet:\n",
        "    closeFinal.append(x/num_sims)\n",
        "\n",
        "\n",
        "#EigenValue centrality\n",
        "for k in range(num_sims):\n",
        "  print(\"Simulation....Eigen Value Centrality\",k,\"/\",num_sims)\n",
        "  single_result = simulate(4)\n",
        "  if (k==0):\n",
        "    eigenNet = (single_result)\n",
        "  else:\n",
        "    eigenNet = np.add(eigenNet, single_result)\n",
        "\n",
        "eigenFinal = []\n",
        "for x in eigenNet:\n",
        "    eigenFinal.append(x/num_sims)\n",
        "\n",
        "\n",
        "#betwenness centrality\n",
        "for k in range(num_sims):\n",
        "  print(\"Simulation....Betwenness Centrality\",k,\"/\",num_sims)\n",
        "  single_result = simulate(5)\n",
        "  if (k==0):\n",
        "    betwennessNet = (single_result)\n",
        "  else:\n",
        "    betwennessNet = np.add(betwennessNet, single_result)\n",
        "\n",
        "betwFinal = []\n",
        "for x in degreeNet:\n",
        "    betwFinal.append(x/num_sims)\n",
        "\n",
        "\n",
        "#gradient descent\n",
        "for k in range(num_sims):\n",
        "  print(\"Simulation....gradient descent\",k,\"/\",num_sims)\n",
        "  single_result = simulate(6)\n",
        "  if (k==0):\n",
        "    graNet = (single_result)\n",
        "  else:\n",
        "    graNet = np.add(graNet, single_result)\n",
        "\n",
        "graFinal = []\n",
        "for x in graNet:\n",
        "    graFinal.append(x/num_sims)"
      ],
      "execution_count": null,
      "outputs": [
        {
          "output_type": "stream",
          "text": [
            "Simulation....Randomness 0 / 1\n",
            "THS\n",
            "1804\n",
            "2318\n",
            "595\n",
            "2927\n",
            "Simulation....Degree Centrality 0 / 1\n",
            "TRO\n",
            "0\n",
            "2368\n",
            "0\n",
            "3212\n",
            "0\n",
            "2976\n",
            "0\n",
            "2681\n",
            "0\n",
            "Simulation....Closeness Centrality 0 / 1\n",
            "OUL\n",
            "1\n",
            "1878\n",
            "1\n",
            "1849\n",
            "0\n",
            "952\n",
            "1\n",
            "2166\n",
            "1\n",
            "Simulation....Eigen Value Centrality 0 / 1\n",
            "FUJ\n",
            "0\n",
            "2614\n",
            "0\n",
            "3308\n",
            "0\n",
            "988\n",
            "0\n",
            "487\n",
            "0\n",
            "Simulation....Betwenness Centrality 0 / 1\n",
            "DIE\n",
            "0\n",
            "3391\n",
            "0\n",
            "2341\n",
            "0\n",
            "1917\n",
            "0\n",
            "2780\n",
            "0\n",
            "Single result 10\n",
            "Simulation....gradient descent 0 / 1\n",
            "NTQ\n",
            "53\n",
            "2380\n",
            "863\n",
            "244\n"
          ],
          "name": "stdout"
        }
      ]
    },
    {
      "cell_type": "code",
      "metadata": {
        "colab": {
          "base_uri": "https://localhost:8080/",
          "height": 359
        },
        "id": "uPIssdtqOzaA",
        "outputId": "2b6b4a68-4f19-4fb6-9b08-3b7271d97dbe"
      },
      "source": [
        "# importing pandas as pd  \n",
        "import pandas as pd  \n",
        "  \n",
        "# list of name, degree, score \n",
        "\n",
        "  \n",
        "# dictionary of lists  \n",
        "dict = {'Random': randFinal, 'Degree': degreeFinal, 'Close': closeFinal, 'Betwenness': betwFinal, 'Eigen Value': eigenFinal, 'Gradient descent':graFinal}  \n",
        "\n",
        "Graphs=[G_airport, G_rand, G_ba, G_sw2, G_sw3]\n",
        "\n",
        "\n",
        "df = pd.DataFrame(dict) \n",
        "df.index = ['Vaccinated airport', 'Infected airport','Vaccinated ER model', 'Infected ER model','Vaccinated BA model', 'Infected BA model','Vaccinated SW 0.2', 'Infected SW 0.2','Vaccinated SW 0.3', 'Infected SW 0.3'] \n",
        "\n",
        "    \n",
        "df  "
      ],
      "execution_count": null,
      "outputs": [
        {
          "output_type": "execute_result",
          "data": {
            "text/html": [
              "<div>\n",
              "<style scoped>\n",
              "    .dataframe tbody tr th:only-of-type {\n",
              "        vertical-align: middle;\n",
              "    }\n",
              "\n",
              "    .dataframe tbody tr th {\n",
              "        vertical-align: top;\n",
              "    }\n",
              "\n",
              "    .dataframe thead th {\n",
              "        text-align: right;\n",
              "    }\n",
              "</style>\n",
              "<table border=\"1\" class=\"dataframe\">\n",
              "  <thead>\n",
              "    <tr style=\"text-align: right;\">\n",
              "      <th></th>\n",
              "      <th>Random</th>\n",
              "      <th>Degree</th>\n",
              "      <th>Close</th>\n",
              "      <th>Betwenness</th>\n",
              "      <th>Eigen Value</th>\n",
              "      <th>Gradient descent</th>\n",
              "    </tr>\n",
              "  </thead>\n",
              "  <tbody>\n",
              "    <tr>\n",
              "      <th>Vaccinated airport</th>\n",
              "      <td>687.0</td>\n",
              "      <td>687.0</td>\n",
              "      <td>687.0</td>\n",
              "      <td>687.0</td>\n",
              "      <td>687.0</td>\n",
              "      <td>687.0</td>\n",
              "    </tr>\n",
              "    <tr>\n",
              "      <th>Infected airport</th>\n",
              "      <td>293.2</td>\n",
              "      <td>444.4</td>\n",
              "      <td>216.2</td>\n",
              "      <td>444.4</td>\n",
              "      <td>377.2</td>\n",
              "      <td>7.4</td>\n",
              "    </tr>\n",
              "    <tr>\n",
              "      <th>Vaccinated ER model</th>\n",
              "      <td>687.0</td>\n",
              "      <td>687.0</td>\n",
              "      <td>687.0</td>\n",
              "      <td>687.0</td>\n",
              "      <td>687.0</td>\n",
              "      <td>687.0</td>\n",
              "    </tr>\n",
              "    <tr>\n",
              "      <th>Infected ER model</th>\n",
              "      <td>354.2</td>\n",
              "      <td>369.2</td>\n",
              "      <td>368.2</td>\n",
              "      <td>369.2</td>\n",
              "      <td>360.0</td>\n",
              "      <td>299.0</td>\n",
              "    </tr>\n",
              "    <tr>\n",
              "      <th>Vaccinated BA model</th>\n",
              "      <td>687.0</td>\n",
              "      <td>687.0</td>\n",
              "      <td>687.0</td>\n",
              "      <td>687.0</td>\n",
              "      <td>687.0</td>\n",
              "      <td>687.0</td>\n",
              "    </tr>\n",
              "    <tr>\n",
              "      <th>Infected BA model</th>\n",
              "      <td>343.0</td>\n",
              "      <td>347.2</td>\n",
              "      <td>342.4</td>\n",
              "      <td>347.2</td>\n",
              "      <td>340.2</td>\n",
              "      <td>269.4</td>\n",
              "    </tr>\n",
              "    <tr>\n",
              "      <th>Vaccinated SW 0.2</th>\n",
              "      <td>687.0</td>\n",
              "      <td>687.0</td>\n",
              "      <td>687.0</td>\n",
              "      <td>687.0</td>\n",
              "      <td>687.0</td>\n",
              "      <td>687.0</td>\n",
              "    </tr>\n",
              "    <tr>\n",
              "      <th>Infected SW 0.2</th>\n",
              "      <td>446.8</td>\n",
              "      <td>440.2</td>\n",
              "      <td>449.0</td>\n",
              "      <td>440.2</td>\n",
              "      <td>460.0</td>\n",
              "      <td>388.8</td>\n",
              "    </tr>\n",
              "    <tr>\n",
              "      <th>Vaccinated SW 0.3</th>\n",
              "      <td>687.0</td>\n",
              "      <td>687.0</td>\n",
              "      <td>687.0</td>\n",
              "      <td>687.0</td>\n",
              "      <td>687.0</td>\n",
              "      <td>687.0</td>\n",
              "    </tr>\n",
              "    <tr>\n",
              "      <th>Infected SW 0.3</th>\n",
              "      <td>438.0</td>\n",
              "      <td>403.8</td>\n",
              "      <td>404.4</td>\n",
              "      <td>403.8</td>\n",
              "      <td>432.6</td>\n",
              "      <td>369.4</td>\n",
              "    </tr>\n",
              "  </tbody>\n",
              "</table>\n",
              "</div>"
            ],
            "text/plain": [
              "                     Random  Degree  ...  Eigen Value  Gradient descent\n",
              "Vaccinated airport    687.0   687.0  ...        687.0             687.0\n",
              "Infected airport      293.2   444.4  ...        377.2               7.4\n",
              "Vaccinated ER model   687.0   687.0  ...        687.0             687.0\n",
              "Infected ER model     354.2   369.2  ...        360.0             299.0\n",
              "Vaccinated BA model   687.0   687.0  ...        687.0             687.0\n",
              "Infected BA model     343.0   347.2  ...        340.2             269.4\n",
              "Vaccinated SW 0.2     687.0   687.0  ...        687.0             687.0\n",
              "Infected SW 0.2       446.8   440.2  ...        460.0             388.8\n",
              "Vaccinated SW 0.3     687.0   687.0  ...        687.0             687.0\n",
              "Infected SW 0.3       438.0   403.8  ...        432.6             369.4\n",
              "\n",
              "[10 rows x 6 columns]"
            ]
          },
          "metadata": {
            "tags": []
          },
          "execution_count": 27
        }
      ]
    },
    {
      "cell_type": "code",
      "metadata": {
        "colab": {
          "base_uri": "https://localhost:8080/",
          "height": 582
        },
        "id": "FQproIdZVNHZ",
        "outputId": "8904872a-d9a0-4fef-fef3-5399e8e484c8"
      },
      "source": [
        "dfN = df.iloc[1::2, :]\n",
        "\n",
        "\n",
        "width = .35 # width of a bar\n",
        "\n",
        "\n",
        "Labels=['Airport','ER Graph','BA Model','Small World 0.2','Small World 0.3']\n",
        "#Labels=['ER Graph','BA Model','Small World 0.03','Small World 0.2','BA targeted','Small World 0.3']\n",
        "\n",
        "Colors=['g-','r-','y-','p-','b-','m-','g-']\n",
        "\n",
        "\n",
        "\n",
        "dfN.plot(kind='bar',figsize=(12,8))\n",
        "\n"
      ],
      "execution_count": null,
      "outputs": [
        {
          "output_type": "execute_result",
          "data": {
            "text/plain": [
              "<matplotlib.axes._subplots.AxesSubplot at 0x7f784fa601d0>"
            ]
          },
          "metadata": {
            "tags": []
          },
          "execution_count": 28
        },
        {
          "output_type": "display_data",
          "data": {
            "image/png": "[encoded data removed]",
            "text/plain": [
              "<Figure size 864x576 with 1 Axes>"
            ]
          },
          "metadata": {
            "tags": []
          }
        }
      ]
    }
  ]
}